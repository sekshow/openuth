{
 "cells": [
  {
   "cell_type": "code",
   "execution_count": 14,
   "metadata": {},
   "outputs": [],
   "source": [
    "from __init__ import subject_number, path_data, path_model, model_name\n",
    "\n",
    "import pandas as pd\n",
    "import glob\n",
    "\n",
    "# ファイルパスを取得\n",
    "file_paths = glob.glob(path_data + '/*.csv')\n",
    "\n",
    "# 認証したい方のパス\n",
    "subject_path = 'out_no' + str(subject_number)\n",
    "\n",
    "# 認証したい方のみのデータを抽出\n",
    "user_file_paths = [file for file in file_paths if subject_path in file]\n",
    "dfs_user = [pd.read_csv(file) for file in user_file_paths]\n",
    "df_user = pd.concat(dfs_user, ignore_index=True)\n",
    "df_d1 = pd.read_csv(path_data + '/' + subject_path + '_days' + str(1) + '.csv')\n",
    "df_d2 = pd.read_csv(path_data + '/' + subject_path + '_days' + str(2) + '.csv')\n",
    "df_d3 = pd.read_csv(path_data + '/' + subject_path + '_days' + str(3) + '.csv')\n",
    "df_d4 = pd.read_csv(path_data + '/' + subject_path + '_days' + str(4) + '.csv')\n",
    "\n",
    "# 認証対象以外のデータを抽出\n",
    "allusers_file_paths = [file for file in file_paths if subject_path not in file]\n",
    "dfs_all = [pd.read_csv(file) for file in allusers_file_paths]\n",
    "df_all = pd.concat(dfs_all, ignore_index=True)\n",
    "df_all['class'] = 99"
   ]
  },
  {
   "cell_type": "markdown",
   "metadata": {},
   "source": [
    "ユーザの1日目のデータを利用してモデル生成"
   ]
  },
  {
   "cell_type": "code",
   "execution_count": 10,
   "metadata": {},
   "outputs": [],
   "source": [
    "from sklearn.model_selection import train_test_split\n",
    "from keras.models import Sequential\n",
    "from keras.layers import Dense, Input\n",
    "import pickle\n",
    "\n",
    "# 1日目のデータを半分分ける．\n",
    "df_d1_train, df_d1_test = train_test_split(df_d1, test_size=0.5, random_state=42)\n",
    "# alldataをテストデータと分ける．\n",
    "df_all_train, df_all_test = train_test_split(df_all, test_size=0.2, random_state=42)\n",
    "\n",
    "# df_d1_trainとサンプリングしたdf_allを結合\n",
    "df_train = pd.concat([df_d1_train, df_all_train], ignore_index=True)\n",
    "\n",
    "# 訓練データ\n",
    "X_train = df_train.iloc[:, 1:].apply(lambda x: (x - x.mean()) / x.std(), axis=0)\n",
    "y_train = df_train['class'].apply(lambda x: 1 if x != subject_number else 0)\n",
    "\n",
    "# テストデータ\n",
    "df_test = pd.concat([df_d1_test, df_all_test], ignore_index=True)\n",
    "X_test = df_test.iloc[:, 1:].apply(lambda x: (x - x.mean()) / x.std(), axis=0)\n",
    "y_test = df_test['class'].apply(lambda x: 1 if x != subject_number else 0)\n",
    "\n",
    "# モデル構成\n",
    "model = Sequential()\n",
    "model.add(Input(shape=(X_train.shape[1],)))  # 入力層\n",
    "model.add(Dense(64, activation='relu'))  # 隠れ層1\n",
    "model.add(Dense(32, activation='relu'))  # 隠れ層2\n",
    "model.add(Dense(1, activation='sigmoid'))  # 出力層\n",
    "\n",
    "# モデルのコンパイル\n",
    "model.compile(optimizer='adam', loss='binary_crossentropy', metrics=['accuracy'])\n",
    "\n",
    "# モデルの訓練\n",
    "model.fit(X_train, y_train, epochs=50, batch_size=10, validation_split=0.2, verbose=0)\n",
    "\n",
    "pickle.dump(model, open(path_model, 'wb'))"
   ]
  },
  {
   "cell_type": "markdown",
   "metadata": {},
   "source": [
    "日付ごとに精度の比較"
   ]
  },
  {
   "cell_type": "code",
   "execution_count": 16,
   "metadata": {},
   "outputs": [
    {
     "name": "stdout",
     "output_type": "stream",
     "text": [
      "\u001b[1m3/3\u001b[0m \u001b[32m━━━━━━━━━━━━━━━━━━━━\u001b[0m\u001b[37m\u001b[0m \u001b[1m0s\u001b[0m 23ms/step\n",
      "[[16  4]\n",
      " [ 0 55]]\n",
      "              precision    recall  f1-score   support\n",
      "\n",
      "           0       1.00      0.80      0.89        20\n",
      "           1       0.93      1.00      0.96        55\n",
      "\n",
      "    accuracy                           0.95        75\n",
      "   macro avg       0.97      0.90      0.93        75\n",
      "weighted avg       0.95      0.95      0.94        75\n",
      "\n"
     ]
    }
   ],
   "source": [
    "from sklearn.metrics import classification_report, confusion_matrix\n",
    "\n",
    "# 1日目のデータを半分分ける．\n",
    "df_d1_train, df_d1_test = train_test_split(df_d1, test_size=0.5, random_state=42)\n",
    "# alldataをテストデータと分ける．\n",
    "df_all_train, df_all_test = train_test_split(df_all, test_size=0.2, random_state=42)\n",
    "\n",
    "# テストデータの選択\n",
    "# df_test = pd.concat([df_d1_test, df_all_test], ignore_index=True) # 1日目の場合\n",
    "# df_test = pd.concat([df_d2, df_all_test], ignore_index=True) # 2日目の場合\n",
    "# df_test = pd.concat([df_d3, df_all_test], ignore_index=True) # 3日目の場合\n",
    "df_test = pd.concat([df_d4, df_all_test], ignore_index=True) # 4日目の場合\n",
    "\n",
    "X_test = df_test.iloc[:, 1:].apply(lambda x: (x - x.mean()) / x.std(), axis=0)\n",
    "y_test = df_test['class'].apply(lambda x: 1 if x != subject_number else 0)\n",
    "\n",
    "model = pickle.load(open(path_model, 'rb'))\n",
    "\n",
    "# モデルの評価\n",
    "y_pred = (model.predict(X_test) > 0.5).astype(\"int32\")  # 予測値を0または1に変換\n",
    "\n",
    "# 評価結果の表示\n",
    "print(confusion_matrix(y_test, y_pred))\n",
    "print(classification_report(y_test, y_pred)) # ラベルデータ：ユーザの場合0，ユーザ以外を1"
   ]
  },
  {
   "cell_type": "markdown",
   "metadata": {},
   "source": [
    "<br><br><br><br><br><br><br>ユーザデータ全ての認証精度"
   ]
  },
  {
   "cell_type": "code",
   "execution_count": null,
   "metadata": {},
   "outputs": [],
   "source": [
    "from sklearn.model_selection import train_test_split\n",
    "from sklearn.preprocessing import StandardScaler\n",
    "from keras.models import Sequential\n",
    "from keras.layers import Dense, Input\n",
    "from sklearn.metrics import classification_report, confusion_matrix\n",
    "\n",
    "# df_userとdf_allを縦方向に結合\n",
    "df = pd.concat([df_user, df_all], ignore_index=True)\n",
    "\n",
    "# 行列の標準化\n",
    "dfs = df.iloc[:, 1:].apply(lambda x: (x - x.mean()) / x.std(), axis=0)\n",
    "\n",
    "# 特徴量とラベルを分ける\n",
    "X = dfs # 特徴量データ\n",
    "y = df['class'].apply(lambda x: 1 if x != subject_number else 0)  # ラベルデータ\n",
    "\n",
    "# データを訓練用とテスト用に分割\n",
    "X_train, X_test, y_train, y_test = train_test_split(X, y, test_size=0.2, random_state=42)\n",
    "\n",
    "model = Sequential()\n",
    "model.add(Input(shape=(X_train.shape[1],)))  # 入力層\n",
    "model.add(Dense(64, activation='relu'))  # 隠れ層1\n",
    "model.add(Dense(32, activation='relu'))  # 隠れ層2\n",
    "model.add(Dense(1, activation='sigmoid'))  # 出力層\n",
    "\n",
    "# モデルのコンパイル\n",
    "model.compile(optimizer='adam', loss='binary_crossentropy', metrics=['accuracy'])\n",
    "\n",
    "# モデルの訓練\n",
    "model.fit(X_train, y_train, epochs=50, batch_size=10, validation_split=0.2, verbose=0)\n",
    "\n",
    "# モデルの評価\n",
    "y_pred = (model.predict(X_test) > 0.5).astype(\"int32\")  # 予測値を0または1に変換\n",
    "\n",
    "# 評価結果の表示\n",
    "print(confusion_matrix(y_test, y_pred))\n",
    "print(classification_report(y_test, y_pred))"
   ]
  }
 ],
 "metadata": {
  "kernelspec": {
   "display_name": "jupyter",
   "language": "python",
   "name": "python3"
  },
  "language_info": {
   "codemirror_mode": {
    "name": "ipython",
    "version": 3
   },
   "file_extension": ".py",
   "mimetype": "text/x-python",
   "name": "python",
   "nbconvert_exporter": "python",
   "pygments_lexer": "ipython3",
   "version": "3.12.4"
  }
 },
 "nbformat": 4,
 "nbformat_minor": 2
}
